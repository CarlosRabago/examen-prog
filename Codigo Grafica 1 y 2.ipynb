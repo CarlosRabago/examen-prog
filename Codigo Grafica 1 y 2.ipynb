{
 "cells": [
  {
   "cell_type": "markdown",
   "metadata": {},
   "source": [
    "### Gráﬁca de barras verticales con el número de casos hospitalizados (de acuerdo a nuestro archivo) \n",
    "### de los estados de Sonora, Chihuahua, Nuevo León y Puebla.\n",
    "### Carlos Rabago"
   ]
  },
  {
   "cell_type": "code",
   "execution_count": 25,
   "metadata": {},
   "outputs": [
    {
     "data": {
      "text/html": [
       "<div>\n",
       "<style scoped>\n",
       "    .dataframe tbody tr th:only-of-type {\n",
       "        vertical-align: middle;\n",
       "    }\n",
       "\n",
       "    .dataframe tbody tr th {\n",
       "        vertical-align: top;\n",
       "    }\n",
       "\n",
       "    .dataframe thead th {\n",
       "        text-align: right;\n",
       "    }\n",
       "</style>\n",
       "<table border=\"1\" class=\"dataframe\">\n",
       "  <thead>\n",
       "    <tr style=\"text-align: right;\">\n",
       "      <th></th>\n",
       "      <th>ENTIDAD_RES</th>\n",
       "      <th>TIPO_PACIENTE</th>\n",
       "    </tr>\n",
       "    <tr>\n",
       "      <th>ID_REGISTRO</th>\n",
       "      <th></th>\n",
       "      <th></th>\n",
       "    </tr>\n",
       "  </thead>\n",
       "  <tbody>\n",
       "    <tr>\n",
       "      <th>5.00E+84</th>\n",
       "      <td>21</td>\n",
       "      <td>2</td>\n",
       "    </tr>\n",
       "    <tr>\n",
       "      <th>0e6058</th>\n",
       "      <td>21</td>\n",
       "      <td>2</td>\n",
       "    </tr>\n",
       "    <tr>\n",
       "      <th>15dd82</th>\n",
       "      <td>21</td>\n",
       "      <td>2</td>\n",
       "    </tr>\n",
       "    <tr>\n",
       "      <th>0c0c39</th>\n",
       "      <td>26</td>\n",
       "      <td>2</td>\n",
       "    </tr>\n",
       "    <tr>\n",
       "      <th>074aae</th>\n",
       "      <td>21</td>\n",
       "      <td>2</td>\n",
       "    </tr>\n",
       "  </tbody>\n",
       "</table>\n",
       "</div>"
      ],
      "text/plain": [
       "             ENTIDAD_RES  TIPO_PACIENTE\n",
       "ID_REGISTRO                            \n",
       "5.00E+84              21              2\n",
       "0e6058                21              2\n",
       "15dd82                21              2\n",
       "0c0c39                26              2\n",
       "074aae                21              2"
      ]
     },
     "execution_count": 25,
     "metadata": {},
     "output_type": "execute_result"
    }
   ],
   "source": [
    "# Se importa datos del archivo tablas2.csv, el cual contiene informacion de las entidades [8,19,21,26] que corresponden a Chihuahua, \n",
    "# Nuevo Leon, Puebla, y Sonora, clasificadas por tipo de paciente 2 (HOSPITALIZADO)\n",
    "\n",
    "import pandas as pd\n",
    "import matplotlib.pyplot as plt\n",
    "\n",
    "df = pd.read_csv(\"tablas2.csv\",index_col=\"ID_REGISTRO\")\n",
    "\n",
    "df.head()"
   ]
  },
  {
   "cell_type": "code",
   "execution_count": 26,
   "metadata": {},
   "outputs": [
    {
     "data": {
      "text/plain": [
       "ENTIDAD_RES\n",
       "8     1013\n",
       "19    1065\n",
       "21    1295\n",
       "26     604\n",
       "dtype: int64"
      ]
     },
     "execution_count": 26,
     "metadata": {},
     "output_type": "execute_result"
    }
   ],
   "source": [
    "# Cantidad de hospitalizados por entidad\n",
    "df.groupby(by=[\"ENTIDAD_RES\"]).size()"
   ]
  },
  {
   "cell_type": "code",
   "execution_count": 33,
   "metadata": {},
   "outputs": [
    {
     "data": {
      "image/png": "[encoded data removed]",
      "text/plain": [
       "<Figure size 432x288 with 1 Axes>"
      ]
     },
     "metadata": {
      "needs_background": "light"
     },
     "output_type": "display_data"
    }
   ],
   "source": [
    "# Cantidad de hospitalizados por entidad\n",
    "imp = df['ENTIDAD_RES'].hist()\n",
    "plt.savefig(\"grafica1.png\")"
   ]
  },
  {
   "cell_type": "markdown",
   "metadata": {},
   "source": [
    "### En grafica2 graﬁcar la serie de tiempo de conﬁrmados a nivel Nacional en el tiempo."
   ]
  },
  {
   "cell_type": "code",
   "execution_count": 102,
   "metadata": {},
   "outputs": [],
   "source": [
    "import pandas as pd\n",
    "\n",
    "# se realiza lectura de datos del archivo .csv, se determina como indice la columna ID_REGISTRO\n",
    "\n",
    "df = pd.read_csv(\"200511COVID19MEXICO.csv\",index_col=1)"
   ]
  },
  {
   "cell_type": "code",
   "execution_count": 147,
   "metadata": {},
   "outputs": [
    {
     "data": {
      "text/plain": [
       "FECHA_INGRESO\n",
       "2020-01-01       5\n",
       "2020-01-02       8\n",
       "2020-01-03      27\n",
       "2020-01-04    1252\n",
       "2020-01-05    1414\n",
       "              ... \n",
       "2020-11-04     953\n",
       "2020-12-01      20\n",
       "2020-12-02      40\n",
       "2020-12-03     177\n",
       "2020-12-04     760\n",
       "Length: 131, dtype: int64"
      ]
     },
     "execution_count": 147,
     "metadata": {},
     "output_type": "execute_result"
    }
   ],
   "source": [
    "# Cantidad de hospitalizados en el pais por fecha\n",
    "df6.groupby(by=[\"FECHA_INGRESO\"]).size()"
   ]
  },
  {
   "cell_type": "code",
   "execution_count": 148,
   "metadata": {},
   "outputs": [
    {
     "data": {
      "image/png": "[encoded data removed]",
      "text/plain": [
       "<Figure size 432x288 with 1 Axes>"
      ]
     },
     "metadata": {
      "needs_background": "light"
     },
     "output_type": "display_data"
    }
   ],
   "source": [
    "#mostrar el histograma por meses\n",
    "df6['FECHA_INGRESO'] = pd.to_datetime(df6['FECHA_INGRESO'])\n",
    "\n",
    "def print_month(d):\n",
    "    print(d.month)\n",
    "\n",
    "dfx = df6\n",
    "\n",
    "dfx['FECHA_INGRESO'] = pd.to_datetime(dfx['FECHA_INGRESO'], infer_datetime_format=True)\n",
    "\n",
    "months = dfx['FECHA_INGRESO'].map(lambda d: d.month)\n",
    "\n",
    "graf2=months.plot.hist()\n",
    "graf2.set(xlabel='Months')\n",
    "plt.savefig(\"grafica2.png\")"
   ]
  },
  {
   "cell_type": "code",
   "execution_count": null,
   "metadata": {},
   "outputs": [],
   "source": []
  }
 ],
 "metadata": {
  "kernelspec": {
   "display_name": "Python 3",
   "language": "python",
   "name": "python3"
  },
  "language_info": {
   "codemirror_mode": {
    "name": "ipython",
    "version": 3
   },
   "file_extension": ".py",
   "mimetype": "text/x-python",
   "name": "python",
   "nbconvert_exporter": "python",
   "pygments_lexer": "ipython3",
   "version": "3.7.6"
  }
 },
 "nbformat": 4,
 "nbformat_minor": 4
}
